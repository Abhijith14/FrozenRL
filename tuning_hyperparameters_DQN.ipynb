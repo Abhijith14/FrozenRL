{
 "cells": [
  {
   "cell_type": "code",
   "execution_count": 1,
   "metadata": {},
   "outputs": [],
   "source": [
    "import gym\n",
    "import numpy as np\n",
    "import random\n",
    "from IPython.display import clear_output\n",
    "import pandas as pd\n",
    "from time import sleep\n",
    "import os"
   ]
  },
  {
   "cell_type": "code",
   "execution_count": 2,
   "metadata": {},
   "outputs": [],
   "source": [
    "import time\n",
    "\n",
    "\n",
    "class Q_learn:\n",
    "\n",
    "    def __init__(self,env):\n",
    "        self.env=env  \n",
    "\n",
    "\n",
    "    def buildQ_leanTable(self):\n",
    "        self.q_table = np.zeros([self.env.observation_space.n,self.env.action_space.n])\n",
    "        return self.q_table\n",
    "\n",
    "\n",
    "    def train(self,epoch=100001,alpha = 0.1,gamma = 0.6,epsilon = 0.1):\n",
    "        self.buildQ_leanTable()\n",
    "        for i in range(1, epoch):\n",
    "            state = self.env.reset()\n",
    "            epochs, reward, = 0, 0\n",
    "            done = False\n",
    "\n",
    "            while not done:\n",
    "                if random.uniform(0, 1) < epsilon:\n",
    "                    action = self.env.action_space.sample() # Explore action space\n",
    "                else:\n",
    "                    action = np.argmax(self.q_table[state]) # Exploit learned values\n",
    "\n",
    "                next_state, reward, done, info = self.env.step(action) \n",
    "                \n",
    "                old_value = self.q_table[state, action]\n",
    "                next_max = np.max(self.q_table[next_state])\n",
    "                \n",
    "                new_value = (1 - alpha) * old_value + alpha * (reward + gamma * next_max)\n",
    "                self.q_table[state, action] = new_value\n",
    "\n",
    "                state = next_state\n",
    "                epochs += 1\n",
    "                \n",
    "                # clear_output(wait=True)\n",
    "                # self.env.render()\n",
    "\n",
    "            if i % 100 == 0:\n",
    "                clear_output(wait=True)\n",
    "                print(f\"Episode: {i}\")\n",
    "\n",
    "        print(\"Training finished.\\n\")\n",
    "\n",
    "\n",
    "    def trainTune(self,alpha = 0.5,gamma = 0.8,epsilon = 0.6):\n",
    "        self.buildQ_leanTable()\n",
    "        for i in range(1, 100001):\n",
    "            state = self.env.reset()\n",
    "            epochs, reward, = 0, 0\n",
    "            done = False\n",
    "\n",
    "            while not done:\n",
    "                if random.uniform(0, 1) < epsilon:\n",
    "                    action = self.env.action_space.sample() # Explore action space\n",
    "                else:\n",
    "                    action = np.argmax(self.q_table[state]) # Exploit learned values\n",
    "\n",
    "                next_state, reward, done, info = self.env.step(action) \n",
    "                \n",
    "                old_value = self.q_table[state, action]\n",
    "                next_max = np.max(self.q_table[next_state])\n",
    "                \n",
    "                new_value = (1 - alpha) * old_value + alpha * (reward + gamma * next_max)\n",
    "                self.q_table[state, action] = new_value\n",
    "\n",
    "                state = next_state\n",
    "                epochs += 1\n",
    "                \n",
    "            if i % 100 == 0:\n",
    "                # clear_output(wait=True)\n",
    "                print(f\"Episode: {i}\")\n",
    "            if i % 1000 == 0:\n",
    "                epsilon-=0.0058\n",
    "                gamma-=0.0078\n",
    "                alpha-=0.0048\n",
    "                print(epsilon,gamma,alpha,sep='\\n')\n",
    "\n",
    "        print(\"Training finished.\\n\")\n",
    "\n",
    "\n",
    "    def trainGraidSearch(self,hyper):\n",
    "        self.buildQ_leanTable()\n",
    "        df=pd.DataFrame(columns=['epoch','alpha','gama','epsilon','average Time'])\n",
    "        epochF=False\n",
    "        alphaF=False\n",
    "        gammaF=False\n",
    "        epsilonF=False\n",
    "        try:\n",
    "          epochs=hyper['epochs']\n",
    "          epochF=True\n",
    "        except:\n",
    "          epochs=[100001]\n",
    "        try:\n",
    "          alphas=hyper['alphas']\n",
    "          alphaF=False\n",
    "        except:\n",
    "          alphas=[0.1]\n",
    "        try:\n",
    "          gammas=hyper['gammas']\n",
    "          gammaF=True\n",
    "        except:\n",
    "          gammas=[0.6]\n",
    "        try:\n",
    "          epsilons=hyper['epsilons']\n",
    "          epsilonF=True\n",
    "        except:\n",
    "          epsilons=[0.1]\n",
    "        first=True\n",
    "        best_parameter=[]\n",
    "        for epoch in epochs:\n",
    "          for alpha in alphas:\n",
    "            for gamma in gammas:\n",
    "              for epsilon in epsilons:\n",
    "                self.train(epoch,alpha,gamma,epsilon)\n",
    "                average=self.evaloute()\n",
    "                df.loc[len(df.index)]=[epoch,alpha,gamma,epsilon,average]\n",
    "                display(df)\n",
    "        best_parmeter=df.loc[df['average Time'].idxmin()]\n",
    "        return best_parmeter \n",
    "\n",
    "\n",
    "    def evaluate(self,episodes = 100):\n",
    "      total_epochs= 0\n",
    "      for _ in range(episodes):\n",
    "          state = self.env.reset()\n",
    "          epochs, reward = 0, 0\n",
    "          done = False\n",
    "          \n",
    "          while not done:\n",
    "              action = np.argmax(self.q_table[state])\n",
    "              state, reward, done, info = self.env.step(action)\n",
    "              epochs += 1\n",
    "          total_epochs += epochs\n",
    "      average=total_epochs / episodes\n",
    "      print(f\"Results after {episodes} episodes:\")\n",
    "      print(f\"Average timesteps per episode: {average}\")\n",
    "      return average\n",
    "\n",
    "    def play(self,episode=100):\n",
    "      state = self.env.reset()\n",
    "      done = False\n",
    "      sequence = []\n",
    "\n",
    "      while not done:\n",
    "          # Choose the action with the highest value in the current state\n",
    "          if np.max(self.q_table[state]) > 0:\n",
    "            action = np.argmax(self.q_table[state])\n",
    "\n",
    "          # If there's no best action (only zeros), take a random one\n",
    "          else:\n",
    "            action = self.env.action_space.sample()\n",
    "          \n",
    "          # Add the action to the sequence\n",
    "          sequence.append(action)\n",
    "\n",
    "          # Implement this action and move the agent in the desired direction\n",
    "          new_state, reward, done, info = self.env.step(action)\n",
    "\n",
    "          # Update our current state\n",
    "          state = new_state\n",
    "\n",
    "          # Update the render\n",
    "          clear_output(wait=True)\n",
    "          self.env.render()\n",
    "          time.sleep(1)\n",
    "\n",
    "      print(f\"Sequence = {sequence}\")"
   ]
  },
  {
   "cell_type": "code",
   "execution_count": 43,
   "metadata": {},
   "outputs": [
    {
     "name": "stdout",
     "output_type": "stream",
     "text": [
      "\n",
      "\u001b[41mS\u001b[0mFHH\n",
      "HFHF\n",
      "HFFF\n",
      "FHHG\n"
     ]
    }
   ],
   "source": [
    "from gym.envs.toy_text.frozen_lake import generate_random_map\n",
    "random_map = generate_random_map(size=4, p=0.3)\n",
    "env3 = gym.make(\"FrozenLake-v1\", desc=random_map, is_slippery=True)\n",
    "env3.reset()\n",
    "env3.render()"
   ]
  },
  {
   "cell_type": "code",
   "execution_count": 44,
   "metadata": {},
   "outputs": [
    {
     "name": "stdout",
     "output_type": "stream",
     "text": [
      "Action Space Discrete(4)\n",
      "State Space Discrete(16)\n"
     ]
    }
   ],
   "source": [
    "print(\"Action Space {}\".format(env3.action_space))\n",
    "print(\"State Space {}\".format(env3.observation_space))"
   ]
  },
  {
   "cell_type": "code",
   "execution_count": 45,
   "metadata": {},
   "outputs": [
    {
     "name": "stdout",
     "output_type": "stream",
     "text": []
    }
   ],
   "source": [
    "RL_model3=Q_learn(env3)\n",
    "RL_model3.train()"
   ]
  },
  {
   "cell_type": "code",
   "execution_count": 47,
   "metadata": {},
   "outputs": [
    {
     "name": "stdout",
     "output_type": "stream",
     "text": [
      "Results after 100 episodes:\n",
      "Average timesteps per episode: 3.01\n"
     ]
    },
    {
     "data": {
      "text/plain": [
       "3.01"
      ]
     },
     "execution_count": 47,
     "metadata": {},
     "output_type": "execute_result"
    }
   ],
   "source": [
    "RL_model3.evaluate()"
   ]
  },
  {
   "cell_type": "code",
   "execution_count": 36,
   "metadata": {},
   "outputs": [
    {
     "name": "stdout",
     "output_type": "stream",
     "text": [
      "Episode: 100000\n",
      "Training finished.\n",
      "\n",
      "Results after 100 episodes:\n",
      "Average timesteps per episode: 2.98\n"
     ]
    },
    {
     "data": {
      "text/html": [
       "<div>\n",
       "<style scoped>\n",
       "    .dataframe tbody tr th:only-of-type {\n",
       "        vertical-align: middle;\n",
       "    }\n",
       "\n",
       "    .dataframe tbody tr th {\n",
       "        vertical-align: top;\n",
       "    }\n",
       "\n",
       "    .dataframe thead th {\n",
       "        text-align: right;\n",
       "    }\n",
       "</style>\n",
       "<table border=\"1\" class=\"dataframe\">\n",
       "  <thead>\n",
       "    <tr style=\"text-align: right;\">\n",
       "      <th></th>\n",
       "      <th>epoch</th>\n",
       "      <th>alpha</th>\n",
       "      <th>gama</th>\n",
       "      <th>epsilon</th>\n",
       "      <th>average Time</th>\n",
       "    </tr>\n",
       "  </thead>\n",
       "  <tbody>\n",
       "    <tr>\n",
       "      <th>0</th>\n",
       "      <td>100001.0</td>\n",
       "      <td>0.9</td>\n",
       "      <td>0.9</td>\n",
       "      <td>0.70</td>\n",
       "      <td>7.74</td>\n",
       "    </tr>\n",
       "    <tr>\n",
       "      <th>1</th>\n",
       "      <td>100001.0</td>\n",
       "      <td>0.9</td>\n",
       "      <td>0.9</td>\n",
       "      <td>0.40</td>\n",
       "      <td>3.13</td>\n",
       "    </tr>\n",
       "    <tr>\n",
       "      <th>2</th>\n",
       "      <td>100001.0</td>\n",
       "      <td>0.9</td>\n",
       "      <td>0.9</td>\n",
       "      <td>0.10</td>\n",
       "      <td>7.55</td>\n",
       "    </tr>\n",
       "    <tr>\n",
       "      <th>3</th>\n",
       "      <td>100001.0</td>\n",
       "      <td>0.9</td>\n",
       "      <td>0.9</td>\n",
       "      <td>0.06</td>\n",
       "      <td>3.05</td>\n",
       "    </tr>\n",
       "    <tr>\n",
       "      <th>4</th>\n",
       "      <td>100001.0</td>\n",
       "      <td>0.9</td>\n",
       "      <td>0.8</td>\n",
       "      <td>0.70</td>\n",
       "      <td>9.13</td>\n",
       "    </tr>\n",
       "    <tr>\n",
       "      <th>...</th>\n",
       "      <td>...</td>\n",
       "      <td>...</td>\n",
       "      <td>...</td>\n",
       "      <td>...</td>\n",
       "      <td>...</td>\n",
       "    </tr>\n",
       "    <tr>\n",
       "      <th>59</th>\n",
       "      <td>100001.0</td>\n",
       "      <td>0.3</td>\n",
       "      <td>0.5</td>\n",
       "      <td>0.06</td>\n",
       "      <td>8.84</td>\n",
       "    </tr>\n",
       "    <tr>\n",
       "      <th>60</th>\n",
       "      <td>100001.0</td>\n",
       "      <td>0.3</td>\n",
       "      <td>0.2</td>\n",
       "      <td>0.70</td>\n",
       "      <td>2.96</td>\n",
       "    </tr>\n",
       "    <tr>\n",
       "      <th>61</th>\n",
       "      <td>100001.0</td>\n",
       "      <td>0.3</td>\n",
       "      <td>0.2</td>\n",
       "      <td>0.40</td>\n",
       "      <td>3.20</td>\n",
       "    </tr>\n",
       "    <tr>\n",
       "      <th>62</th>\n",
       "      <td>100001.0</td>\n",
       "      <td>0.3</td>\n",
       "      <td>0.2</td>\n",
       "      <td>0.10</td>\n",
       "      <td>2.95</td>\n",
       "    </tr>\n",
       "    <tr>\n",
       "      <th>63</th>\n",
       "      <td>100001.0</td>\n",
       "      <td>0.3</td>\n",
       "      <td>0.2</td>\n",
       "      <td>0.06</td>\n",
       "      <td>2.98</td>\n",
       "    </tr>\n",
       "  </tbody>\n",
       "</table>\n",
       "<p>64 rows × 5 columns</p>\n",
       "</div>"
      ],
      "text/plain": [
       "       epoch  alpha  gama  epsilon  average Time\n",
       "0   100001.0    0.9   0.9     0.70          7.74\n",
       "1   100001.0    0.9   0.9     0.40          3.13\n",
       "2   100001.0    0.9   0.9     0.10          7.55\n",
       "3   100001.0    0.9   0.9     0.06          3.05\n",
       "4   100001.0    0.9   0.8     0.70          9.13\n",
       "..       ...    ...   ...      ...           ...\n",
       "59  100001.0    0.3   0.5     0.06          8.84\n",
       "60  100001.0    0.3   0.2     0.70          2.96\n",
       "61  100001.0    0.3   0.2     0.40          3.20\n",
       "62  100001.0    0.3   0.2     0.10          2.95\n",
       "63  100001.0    0.3   0.2     0.06          2.98\n",
       "\n",
       "[64 rows x 5 columns]"
      ]
     },
     "metadata": {},
     "output_type": "display_data"
    },
    {
     "name": "stdout",
     "output_type": "stream",
     "text": [
      "best parameters is : epoch           100001.00\n",
      "alpha                0.30\n",
      "gama                 0.50\n",
      "epsilon              0.70\n",
      "average Time         2.55\n",
      "Name: 56, dtype: float64\n"
     ]
    }
   ],
   "source": [
    "hyper={\n",
    "    'epochs':[100001],\n",
    "    'alphas':[0.9,0.8,0.5,0.3],\n",
    "    'gammas':[0.9,0.8,0.5,0.2],\n",
    "    'epsilons':[0.7,0.4,0.1,0.06]\n",
    "}\n",
    "best_param=RL_model3.trainGraidSearch(hyper)\n",
    "print(\"best parameters is :\",best_param)"
   ]
  },
  {
   "cell_type": "code",
   "execution_count": 37,
   "metadata": {},
   "outputs": [
    {
     "name": "stdout",
     "output_type": "stream",
     "text": [
      "Episode: 100000\n",
      "0.11999999999999786\n",
      "-0.27999999999999914\n",
      "-0.1800000000000002\n",
      "Training finished.\n",
      "\n",
      "Results after 100 episodes:\n",
      "Average timesteps per episode: 3.31\n"
     ]
    },
    {
     "data": {
      "text/plain": [
       "3.31"
      ]
     },
     "execution_count": 37,
     "metadata": {},
     "output_type": "execute_result"
    }
   ],
   "source": [
    "RL_model3.trainTune(alpha=0.30, gamma=0.50, epsilon=0.70)\n",
    "RL_model3.evaloute()"
   ]
  },
  {
   "cell_type": "code",
   "execution_count": 49,
   "metadata": {},
   "outputs": [
    {
     "name": "stdout",
     "output_type": "stream",
     "text": [
      "  (Left)\n",
      "SFHH\n",
      "\u001b[41mH\u001b[0mFHF\n",
      "HFFF\n",
      "FHHG\n",
      "Sequence = [3, 0, 3, 1, 1, 0, 0, 0]\n"
     ]
    }
   ],
   "source": [
    "RL_model3.play()"
   ]
  },
  {
   "cell_type": "code",
   "execution_count": null,
   "metadata": {},
   "outputs": [],
   "source": []
  },
  {
   "cell_type": "code",
   "execution_count": null,
   "metadata": {},
   "outputs": [],
   "source": []
  }
 ],
 "metadata": {
  "kernelspec": {
   "display_name": "Python 3.10.8 ('ai_gpu')",
   "language": "python",
   "name": "python3"
  },
  "language_info": {
   "codemirror_mode": {
    "name": "ipython",
    "version": 3
   },
   "file_extension": ".py",
   "mimetype": "text/x-python",
   "name": "python",
   "nbconvert_exporter": "python",
   "pygments_lexer": "ipython3",
   "version": "3.10.8"
  },
  "orig_nbformat": 4,
  "vscode": {
   "interpreter": {
    "hash": "928ce492025a793d5201d390b64b8ce1c00a43ad267fcc641dc8590fc5da2afb"
   }
  }
 },
 "nbformat": 4,
 "nbformat_minor": 2
}
