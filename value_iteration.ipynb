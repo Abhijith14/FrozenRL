{
 "cells": [
  {
   "cell_type": "code",
   "execution_count": 2,
   "metadata": {},
   "outputs": [],
   "source": [
    "#Library for environments\n",
    "import gym\n",
    "from gym.envs.registration import register\n",
    "from gym.envs.toy_text.frozen_lake import generate_random_map\n",
    "\n",
    "#Librairies to represent the output\n",
    "from IPython.display import clear_output\n",
    "import time\n",
    "import matplotlib.pyplot as plt\n",
    "\n",
    "#Essential libraries for computation\n",
    "import numpy as np\n",
    "import random\n",
    "import tensorflow.compat.v1 as tf\n",
    "from collections import deque"
   ]
  },
  {
   "cell_type": "code",
   "execution_count": 3,
   "metadata": {},
   "outputs": [
    {
     "name": "stdout",
     "output_type": "stream",
     "text": [
      "2.6.0\n",
      "[LogicalDevice(name='/device:GPU:0', device_type='GPU')]\n",
      "1 Physical GPU, 1 Logical GPUs\n",
      "[name: \"/device:CPU:0\"\n",
      "device_type: \"CPU\"\n",
      "memory_limit: 268435456\n",
      "locality {\n",
      "}\n",
      "incarnation: 7179976304974824060\n",
      ", name: \"/device:GPU:0\"\n",
      "device_type: \"GPU\"\n",
      "memory_limit: 16034824192\n",
      "locality {\n",
      "  bus_id: 1\n",
      "  links {\n",
      "  }\n",
      "}\n",
      "incarnation: 3933162300187828700\n",
      "physical_device_desc: \"device: 0, name: NVIDIA GeForce RTX 2060, pci bus id: 0000:01:00.0, compute capability: 7.5\"\n",
      "]\n",
      "\n",
      "\n",
      "Num GPUs Available:  1\n"
     ]
    }
   ],
   "source": [
    "# TensorFlow config to GPU\n",
    "print(tf.__version__)\n",
    "\n",
    "gpus = tf.config.list_physical_devices('GPU')\n",
    "if gpus: \n",
    "    tf.config.set_logical_device_configuration(\n",
    "        gpus[0],\n",
    "        [tf.config.LogicalDeviceConfiguration(memory_limit=15292)]\n",
    "    )\n",
    "\n",
    "logical_gpus = tf.config.list_logical_devices('GPU')\n",
    "print(logical_gpus)\n",
    "print(len(gpus), \"Physical GPU,\", len(logical_gpus), \"Logical GPUs\")\n",
    "\n",
    "\n",
    "from tensorflow.python.client import device_lib \n",
    "print(device_lib.list_local_devices())\n",
    "\n",
    "print()\n",
    "print()\n",
    "\n",
    "print(\"Num GPUs Available: \", len(tf.config.list_physical_devices('GPU')))"
   ]
  },
  {
   "cell_type": "code",
   "execution_count": 19,
   "metadata": {},
   "outputs": [
    {
     "name": "stdout",
     "output_type": "stream",
     "text": [
      "\n",
      "\u001b[41mS\u001b[0mFFHHHHF\n",
      "FHFHHHHH\n",
      "HHFFHFHH\n",
      "HHHFHFFF\n",
      "HHHFFFHH\n",
      "HHHFHHHH\n",
      "FHHFFHHF\n",
      "HHHHFFFG\n"
     ]
    }
   ],
   "source": [
    "random_map = generate_random_map(size=8, p=0.3)\n",
    "environment = gym.make(\"FrozenLake-v1\", is_slippery=False, desc=random_map)\n",
    "environment.reset()\n",
    "environment.render()"
   ]
  },
  {
   "cell_type": "code",
   "execution_count": 20,
   "metadata": {},
   "outputs": [],
   "source": [
    "gamma = 0.99 # discount factor\n",
    "theta = 0.000001 # threshold for convergence\n",
    "\n",
    "def argmax(env, V, pi, action,s, gamma):\n",
    "    e = np.zeros(env.env.nA)\n",
    "    for a in range(env.env.nA):                         # iterate for every action possible \n",
    "        q=0\n",
    "        P = np.array(env.env.P[s][a])                   \n",
    "        (x,y) = np.shape(P)                             # for Bellman Equation \n",
    "        \n",
    "        for i in range(x):                              # iterate for every possible states\n",
    "            s_= int(P[i][1])                            # S' - Sprime - possible succesor states\n",
    "            p = P[i][0]                                 # Transition Probability P(s'|s,a) \n",
    "            r = P[i][2]                                 # Reward\n",
    "            \n",
    "            q += p*(r+gamma*V[s_])                      # calculate action_ value q(s|a)\n",
    "            e[a] = q\n",
    "            \n",
    "    m = np.argmax(e) \n",
    "    action[s]=m                                           # Take index which has maximum value \n",
    "    pi[s][m] = 1                                        # update pi(a|s) \n",
    "\n",
    "    return pi"
   ]
  },
  {
   "cell_type": "code",
   "execution_count": 21,
   "metadata": {},
   "outputs": [],
   "source": [
    "def bellman_optimality_update(env, V, s, gamma):  # update the stae_value V[s] by taking \n",
    "    pi = np.zeros((env.env.nS, env.env.nA))       # action which maximizes current value\n",
    "    e = np.zeros(env.env.nA)                       \n",
    "                                            # STEP1: Find \n",
    "    for a in range(env.env.nA):             \n",
    "        q=0                                 # iterate for all possible action\n",
    "        P = np.array(env.env.P[s][a])\n",
    "        (x,y) = np.shape(P)\n",
    "        \n",
    "        for i in range(x):\n",
    "            s_= int(P[i][1])\n",
    "            p = P[i][0]\n",
    "            r = P[i][2]\n",
    "            q += p*(r+gamma*V[s_])\n",
    "            e[a] = q\n",
    "            \n",
    "    m = np.argmax(e)\n",
    "    pi[s][m] = 1\n",
    "    \n",
    "    value = 0\n",
    "    for a in range(env.env.nA):\n",
    "        u = 0\n",
    "        P = np.array(env.env.P[s][a])\n",
    "        (x,y) = np.shape(P)\n",
    "        for i in range(x):\n",
    "            \n",
    "            s_= int(P[i][1])\n",
    "            p = P[i][0]\n",
    "            r = P[i][2]\n",
    "            \n",
    "            u += p*(r+gamma*V[s_])\n",
    "            \n",
    "        value += pi[s,a] * u\n",
    "  \n",
    "    V[s]=value\n",
    "    return V[s]"
   ]
  },
  {
   "cell_type": "code",
   "execution_count": 22,
   "metadata": {},
   "outputs": [],
   "source": [
    "def value_iteration(env, gamma, theta):\n",
    "    V = np.zeros(env.env.nS)                                       # initialize v(0) to arbitory value, my case \"zeros\"\n",
    "    while True:\n",
    "        delta = 0\n",
    "        for s in range(env.env.nS):                       # iterate for all states\n",
    "            v = V[s]\n",
    "            bellman_optimality_update(env, V, s, gamma)   # update state_value with bellman_optimality_update\n",
    "            delta = max(delta, abs(v - V[s]))             # assign the change in value per iteration to delta  \n",
    "        if delta < theta:                                       \n",
    "            break                                         # if change gets to negligible \n",
    "                                                          # --> converged to optimal value         \n",
    "    pi = np.zeros((env.env.nS, env.env.nA)) \n",
    "    action = np.zeros((env.env.nS))\n",
    "    for s in range(env.env.nS):\n",
    "        pi = argmax(env, V, pi,action, s, gamma)         # extract optimal policy using action value \n",
    "        \n",
    "    return V, pi,action                                          # optimal value funtion, optimal policy"
   ]
  },
  {
   "cell_type": "code",
   "execution_count": 23,
   "metadata": {},
   "outputs": [
    {
     "data": {
      "text/plain": [
       "array([0.87752102, 0.88638487, 0.89533825, 0.        , 0.        ,\n",
       "       0.        , 0.        , 0.        , 0.86874581, 0.        ,\n",
       "       0.90438208, 0.        , 0.        , 0.        , 0.        ,\n",
       "       0.        , 0.        , 0.        , 0.91351725, 0.92274469,\n",
       "       0.        , 0.90438208, 0.        , 0.        , 0.        ,\n",
       "       0.        , 0.        , 0.93206535, 0.        , 0.91351725,\n",
       "       0.90438208, 0.89533825, 0.        , 0.        , 0.        ,\n",
       "       0.94148015, 0.93206535, 0.92274469, 0.        , 0.        ,\n",
       "       0.        , 0.        , 0.        , 0.95099005, 0.        ,\n",
       "       0.        , 0.        , 0.        , 0.        , 0.        ,\n",
       "       0.        , 0.96059601, 0.970299  , 0.        , 0.        ,\n",
       "       1.        , 0.        , 0.        , 0.        , 0.        ,\n",
       "       0.9801    , 0.99      , 1.        , 0.        ])"
      ]
     },
     "execution_count": 23,
     "metadata": {},
     "output_type": "execute_result"
    }
   ],
   "source": [
    "V, pi, action = value_iteration(environment, gamma, theta)\n",
    "V"
   ]
  },
  {
   "cell_type": "code",
   "execution_count": 24,
   "metadata": {},
   "outputs": [
    {
     "name": "stdout",
     "output_type": "stream",
     "text": [
      "[[2. 2. 1. 0. 0. 0. 0. 0.]\n",
      " [3. 0. 1. 0. 0. 0. 0. 0.]\n",
      " [0. 0. 2. 1. 0. 1. 0. 0.]\n",
      " [0. 0. 0. 1. 0. 1. 0. 0.]\n",
      " [0. 0. 0. 1. 0. 0. 0. 0.]\n",
      " [0. 0. 0. 1. 0. 0. 0. 0.]\n",
      " [0. 0. 0. 2. 1. 0. 0. 1.]\n",
      " [0. 0. 0. 0. 2. 2. 2. 0.]]\n"
     ]
    }
   ],
   "source": [
    "a= np.reshape(action,(8,8))\n",
    "print(a)                          # discrete action to take in given state"
   ]
  },
  {
   "cell_type": "code",
   "execution_count": 38,
   "metadata": {},
   "outputs": [
    {
     "name": "stdout",
     "output_type": "stream",
     "text": [
      "100\n",
      " agent succeeded to reach goal 101 out of 100 Episodes using this policy \n"
     ]
    }
   ],
   "source": [
    "e=0\n",
    "for i_episode in range(100):\n",
    "    c = environment.reset()\n",
    "    reward = 0\n",
    "    done = False\n",
    "    for t in range(10000):\n",
    "        c, reward, done, info = environment.step(action[c])\n",
    "        # print(reward)\n",
    "        if done:\n",
    "            if reward == 1:\n",
    "                e +=1\n",
    "                reward = 0\n",
    "                done = False\n",
    "            break\n",
    "print(e)\n",
    "print(\" agent succeeded to reach goal {} out of 100 Episodes using this policy \".format(e+1))\n",
    "environment.close()"
   ]
  },
  {
   "cell_type": "code",
   "execution_count": null,
   "metadata": {},
   "outputs": [],
   "source": []
  }
 ],
 "metadata": {
  "kernelspec": {
   "display_name": "Python 3.7.9 64-bit",
   "language": "python",
   "name": "python3"
  },
  "language_info": {
   "codemirror_mode": {
    "name": "ipython",
    "version": 3
   },
   "file_extension": ".py",
   "mimetype": "text/x-python",
   "name": "python",
   "nbconvert_exporter": "python",
   "pygments_lexer": "ipython3",
   "version": "3.7.9"
  },
  "orig_nbformat": 4,
  "vscode": {
   "interpreter": {
    "hash": "12f68f144ae2db6777c9d80cbc2aa777bdbed4bc7ca511be6d44d21741f659c1"
   }
  }
 },
 "nbformat": 4,
 "nbformat_minor": 2
}
