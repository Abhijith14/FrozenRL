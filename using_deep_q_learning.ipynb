{
 "cells": [
  {
   "cell_type": "code",
   "execution_count": 1,
   "metadata": {},
   "outputs": [
    {
     "name": "stderr",
     "output_type": "stream",
     "text": [
      "c:\\Users\\abhij\\.conda\\envs\\ai_gpu - Copy\\lib\\site-packages\\tqdm\\auto.py:22: TqdmWarning: IProgress not found. Please update jupyter and ipywidgets. See https://ipywidgets.readthedocs.io/en/stable/user_install.html\n",
      "  from .autonotebook import tqdm as notebook_tqdm\n"
     ]
    }
   ],
   "source": [
    "import gym\n",
    "import numpy as np \n",
    "import torch\n",
    "from torch import nn\n",
    "from torch.autograd import Variable\n",
    "from torch import optim\n",
    "from torch.nn import functional as F\n",
    "import matplotlib.pyplot as plt\n",
    "%matplotlib inline\n",
    "\n",
    "from gym.envs.toy_text.frozen_lake import generate_random_map\n",
    "import tqdm"
   ]
  },
  {
   "cell_type": "code",
   "execution_count": 2,
   "metadata": {},
   "outputs": [
    {
     "data": {
      "text/plain": [
       "False"
      ]
     },
     "execution_count": 2,
     "metadata": {},
     "output_type": "execute_result"
    }
   ],
   "source": [
    "torch.cuda.is_available()"
   ]
  },
  {
   "cell_type": "code",
   "execution_count": 3,
   "metadata": {},
   "outputs": [
    {
     "data": {
      "text/plain": [
       "device(type='cpu')"
      ]
     },
     "execution_count": 3,
     "metadata": {},
     "output_type": "execute_result"
    }
   ],
   "source": [
    "# pytorch in gpu\n",
    "device = torch.device(\"cuda\" if torch.cuda.is_available() else \"cpu\")\n",
    "device"
   ]
  },
  {
   "cell_type": "code",
   "execution_count": 4,
   "metadata": {},
   "outputs": [],
   "source": [
    "def one_hot(ids, nb_digits):\n",
    "    \"\"\"\n",
    "    ids: (list, ndarray) shape:[batch_size]\n",
    "    \"\"\"\n",
    "    if not isinstance(ids, (list, np.ndarray)):\n",
    "        raise ValueError(\"ids must be 1-D list or array\")\n",
    "    batch_size = len(ids)\n",
    "    ids = torch.LongTensor(ids).view(batch_size, 1)\n",
    "    out_tensor = Variable(torch.FloatTensor(batch_size, nb_digits))\n",
    "    out_tensor.data.zero_()\n",
    "    out_tensor.data.scatter_(dim=1, index=ids, value=1.)\n",
    "    return out_tensor\n",
    "\n",
    "def uniform_linear_layer(linear_layer):\n",
    "    linear_layer.weight.data.uniform_()\n",
    "    linear_layer.bias.data.fill_(-0.02)"
   ]
  },
  {
   "cell_type": "code",
   "execution_count": 5,
   "metadata": {},
   "outputs": [
    {
     "name": "stdout",
     "output_type": "stream",
     "text": [
      "\n",
      "\u001b[41mS\u001b[0mHHHHHFFHH\n",
      "FFHHHHHHHF\n",
      "FFFFHHFHFF\n",
      "FHHFFFFHFH\n",
      "FHHFHFFFFH\n",
      "HHHHHFHFHF\n",
      "FHHHHHHFHH\n",
      "HHHHHFFFFF\n",
      "HHHHHHHHHF\n",
      "HHHFHHHHHG\n"
     ]
    }
   ],
   "source": [
    "random_map = generate_random_map(size=10, p=0.3)\n",
    "lake = gym.make(\"FrozenLake-v1\", desc=random_map)\n",
    "lake.reset()\n",
    "lake.render()"
   ]
  },
  {
   "cell_type": "code",
   "execution_count": 6,
   "metadata": {},
   "outputs": [],
   "source": [
    "class Agent(nn.Module):\n",
    "    def __init__(self, observation_space_size, action_space_size):\n",
    "        super(Agent, self).__init__()\n",
    "        self.observation_space_size = observation_space_size\n",
    "        self.hidden_size = observation_space_size\n",
    "        self.l1 = nn.Linear(in_features=observation_space_size, out_features=self.hidden_size)\n",
    "        self.l2 = nn.Linear(in_features=self.hidden_size, out_features=action_space_size)\n",
    "        uniform_linear_layer(self.l1)\n",
    "        uniform_linear_layer(self.l2)\n",
    "    \n",
    "    def forward(self, state):\n",
    "        obs_emb = one_hot([int(state)], self.observation_space_size)\n",
    "        out1 = F.sigmoid(self.l1(obs_emb))\n",
    "        return self.l2(out1).view((-1)) # 1 x ACTION_SPACE_SIZE == 1 x 4  =>  4"
   ]
  },
  {
   "cell_type": "code",
   "execution_count": 7,
   "metadata": {},
   "outputs": [],
   "source": [
    "class Trainer:\n",
    "    def __init__(self):\n",
    "        self.agent = Agent(lake.observation_space.n, lake.action_space.n)\n",
    "        self.optimizer = optim.Adam(params=self.agent.parameters())\n",
    "        self.success = []\n",
    "        self.jList = []\n",
    "    \n",
    "    def train(self, epoch):\n",
    "        for i in tqdm.tqdm(range(epoch)):\n",
    "            s = lake.reset()\n",
    "            j = 0\n",
    "            while j < 200:\n",
    "                \n",
    "                # perform chosen action\n",
    "                # print(\"s: \", s)\n",
    "                a = self.choose_action(s)\n",
    "                # print(\"action: \", a)\n",
    "                s1, r, d, _ = lake.step(a)\n",
    "                if d == True and r == 0: r = -1\n",
    "                \n",
    "                # calculate target and loss\n",
    "                target_q = r + 0.99 * torch.max(self.agent(s1).detach()) # detach from the computing flow\n",
    "                loss = F.smooth_l1_loss(self.agent(s)[a], target_q)\n",
    "                \n",
    "                # update model to optimize Q\n",
    "                self.optimizer.zero_grad()\n",
    "                loss.backward()\n",
    "                self.optimizer.step()\n",
    "                \n",
    "                # update state\n",
    "                s = s1\n",
    "                j += 1\n",
    "                if d == True: break\n",
    "            \n",
    "            # append results onto report lists\n",
    "            if d == True and r > 0:\n",
    "                self.success.append(1)\n",
    "                print(\"GOTCHA !!\")\n",
    "            else:\n",
    "                self.success.append(0)\n",
    "            self.jList.append(j)\n",
    "        print(\"last 100 epoches success rate: \" + str(sum(self.success[-100:])) + \"%\")\n",
    "\n",
    "    def choose_action(self, s):\n",
    "        if (np.random.rand(1) < 0.1):\n",
    "            return lake.action_space.sample()\n",
    "        else:\n",
    "            # print(\"agent(s): \", self.agent(s))\n",
    "            agent_out = self.agent(s).detach()\n",
    "            _, max_index = torch.max(agent_out, 0)\n",
    "            # print(\"hey\", max_index.data.numpy())\n",
    "            return int(max_index.data)\n",
    "\n",
    "\n",
    "    def play(self):\n",
    "        s = lake.reset()\n",
    "        j = 0\n",
    "        while j < 200:\n",
    "            lake.render()\n",
    "            a = self.choose_action(s)\n",
    "            s1, r, d, _ = lake.step(a)\n",
    "            s = s1\n",
    "            j += 1\n",
    "            if d == True: break\n",
    "        lake.render()\n",
    "        print(\"total steps: \", j)"
   ]
  },
  {
   "cell_type": "code",
   "execution_count": 18,
   "metadata": {},
   "outputs": [
    {
     "name": "stderr",
     "output_type": "stream",
     "text": [
      "100%|██████████| 1000000/1000000 [9:26:07<00:00, 29.44it/s]  "
     ]
    },
    {
     "name": "stdout",
     "output_type": "stream",
     "text": [
      "last 100 epoches success rate: 0%\n"
     ]
    },
    {
     "name": "stderr",
     "output_type": "stream",
     "text": [
      "\n"
     ]
    }
   ],
   "source": [
    "t = Trainer()\n",
    "t.train(1000000)"
   ]
  },
  {
   "cell_type": "code",
   "execution_count": 9,
   "metadata": {},
   "outputs": [
    {
     "name": "stdout",
     "output_type": "stream",
     "text": [
      "\n",
      "\u001b[41mS\u001b[0mHHHHHFFHH\n",
      "FFHHHHHHHF\n",
      "FFFFHHFHFF\n",
      "FHHFFFFHFH\n",
      "FHHFHFFFFH\n",
      "HHHHHFHFHF\n",
      "FHHHHHHFHH\n",
      "HHHHHFFFFF\n",
      "HHHHHHHHHF\n",
      "HHHFHHHHHG\n",
      "  (Left)\n",
      "\u001b[41mS\u001b[0mHHHHHFFHH\n",
      "FFHHHHHHHF\n",
      "FFFFHHFHFF\n",
      "FHHFFFFHFH\n",
      "FHHFHFFFFH\n",
      "HHHHHFHFHF\n",
      "FHHHHHHFHH\n",
      "HHHHHFFFFF\n",
      "HHHHHHHHHF\n",
      "HHHFHHHHHG\n",
      "  (Left)\n",
      "SHHHHHFFHH\n",
      "\u001b[41mF\u001b[0mFHHHHHHHF\n",
      "FFFFHHFHFF\n",
      "FHHFFFFHFH\n",
      "FHHFHFFFFH\n",
      "HHHHHFHFHF\n",
      "FHHHHHHFHH\n",
      "HHHHHFFFFF\n",
      "HHHHHHHHHF\n",
      "HHHFHHHHHG\n",
      "  (Left)\n",
      "\u001b[41mS\u001b[0mHHHHHFFHH\n",
      "FFHHHHHHHF\n",
      "FFFFHHFHFF\n",
      "FHHFFFFHFH\n",
      "FHHFHFFFFH\n",
      "HHHHHFHFHF\n",
      "FHHHHHHFHH\n",
      "HHHHHFFFFF\n",
      "HHHHHHHHHF\n",
      "HHHFHHHHHG\n",
      "  (Left)\n",
      "\u001b[41mS\u001b[0mHHHHHFFHH\n",
      "FFHHHHHHHF\n",
      "FFFFHHFHFF\n",
      "FHHFFFFHFH\n",
      "FHHFHFFFFH\n",
      "HHHHHFHFHF\n",
      "FHHHHHHFHH\n",
      "HHHHHFFFFF\n",
      "HHHHHHHHHF\n",
      "HHHFHHHHHG\n",
      "  (Left)\n",
      "\u001b[41mS\u001b[0mHHHHHFFHH\n",
      "FFHHHHHHHF\n",
      "FFFFHHFHFF\n",
      "FHHFFFFHFH\n",
      "FHHFHFFFFH\n",
      "HHHHHFHFHF\n",
      "FHHHHHHFHH\n",
      "HHHHHFFFFF\n",
      "HHHHHHHHHF\n",
      "HHHFHHHHHG\n",
      "  (Left)\n",
      "\u001b[41mS\u001b[0mHHHHHFFHH\n",
      "FFHHHHHHHF\n",
      "FFFFHHFHFF\n",
      "FHHFFFFHFH\n",
      "FHHFHFFFFH\n",
      "HHHHHFHFHF\n",
      "FHHHHHHFHH\n",
      "HHHHHFFFFF\n",
      "HHHHHHHHHF\n",
      "HHHFHHHHHG\n",
      "  (Left)\n",
      "SHHHHHFFHH\n",
      "\u001b[41mF\u001b[0mFHHHHHHHF\n",
      "FFFFHHFHFF\n",
      "FHHFFFFHFH\n",
      "FHHFHFFFFH\n",
      "HHHHHFHFHF\n",
      "FHHHHHHFHH\n",
      "HHHHHFFFFF\n",
      "HHHHHHHHHF\n",
      "HHHFHHHHHG\n",
      "  (Left)\n",
      "\u001b[41mS\u001b[0mHHHHHFFHH\n",
      "FFHHHHHHHF\n",
      "FFFFHHFHFF\n",
      "FHHFFFFHFH\n",
      "FHHFHFFFFH\n",
      "HHHHHFHFHF\n",
      "FHHHHHHFHH\n",
      "HHHHHFFFFF\n",
      "HHHHHHHHHF\n",
      "HHHFHHHHHG\n",
      "  (Left)\n",
      "\u001b[41mS\u001b[0mHHHHHFFHH\n",
      "FFHHHHHHHF\n",
      "FFFFHHFHFF\n",
      "FHHFFFFHFH\n",
      "FHHFHFFFFH\n",
      "HHHHHFHFHF\n",
      "FHHHHHHFHH\n",
      "HHHHHFFFFF\n",
      "HHHHHHHHHF\n",
      "HHHFHHHHHG\n",
      "  (Left)\n",
      "\u001b[41mS\u001b[0mHHHHHFFHH\n",
      "FFHHHHHHHF\n",
      "FFFFHHFHFF\n",
      "FHHFFFFHFH\n",
      "FHHFHFFFFH\n",
      "HHHHHFHFHF\n",
      "FHHHHHHFHH\n",
      "HHHHHFFFFF\n",
      "HHHHHHHHHF\n",
      "HHHFHHHHHG\n",
      "  (Up)\n",
      "S\u001b[41mH\u001b[0mHHHHFFHH\n",
      "FFHHHHHHHF\n",
      "FFFFHHFHFF\n",
      "FHHFFFFHFH\n",
      "FHHFHFFFFH\n",
      "HHHHHFHFHF\n",
      "FHHHHHHFHH\n",
      "HHHHHFFFFF\n",
      "HHHHHHHHHF\n",
      "HHHFHHHHHG\n",
      "total steps:  11\n"
     ]
    }
   ],
   "source": [
    "t.play()"
   ]
  },
  {
   "cell_type": "code",
   "execution_count": 19,
   "metadata": {},
   "outputs": [
    {
     "data": {
      "text/plain": [
       "[<matplotlib.lines.Line2D at 0x1f130257df0>]"
      ]
     },
     "execution_count": 19,
     "metadata": {},
     "output_type": "execute_result"
    },
    {
     "data": {
      "image/png": "[encoded data removed]",
      "text/plain": [
       "<Figure size 640x480 with 1 Axes>"
      ]
     },
     "metadata": {},
     "output_type": "display_data"
    }
   ],
   "source": [
    "plt.plot(t.success)"
   ]
  },
  {
   "cell_type": "code",
   "execution_count": 14,
   "metadata": {},
   "outputs": [
    {
     "data": {
      "text/plain": [
       "[<matplotlib.lines.Line2D at 0x1f12df7f640>]"
      ]
     },
     "execution_count": 14,
     "metadata": {},
     "output_type": "execute_result"
    },
    {
     "data": {
      "image/png": "[encoded data removed]",
      "text/plain": [
       "<Figure size 640x480 with 1 Axes>"
      ]
     },
     "metadata": {},
     "output_type": "display_data"
    }
   ],
   "source": [
    "plt.plot(t.jList)"
   ]
  },
  {
   "cell_type": "code",
   "execution_count": null,
   "metadata": {},
   "outputs": [],
   "source": []
  }
 ],
 "metadata": {
  "kernelspec": {
   "display_name": "Python 3.10.8 ('ai_gpu - Copy')",
   "language": "python",
   "name": "python3"
  },
  "language_info": {
   "codemirror_mode": {
    "name": "ipython",
    "version": 3
   },
   "file_extension": ".py",
   "mimetype": "text/x-python",
   "name": "python",
   "nbconvert_exporter": "python",
   "pygments_lexer": "ipython3",
   "version": "3.10.8"
  },
  "orig_nbformat": 4,
  "vscode": {
   "interpreter": {
    "hash": "f2140e531a00552fab5053d29df9ddf0ba9fe2b6f8aad1d7df8055cad05eac15"
   }
  }
 },
 "nbformat": 4,
 "nbformat_minor": 2
}
