{
 "cells": [
  {
   "cell_type": "code",
   "execution_count": 1,
   "metadata": {},
   "outputs": [],
   "source": [
    "#Library for environments\n",
    "import gym\n",
    "from gym.envs.registration import register\n",
    "from gym.envs.toy_text.frozen_lake import generate_random_map\n",
    "\n",
    "#Librairies to represent the output\n",
    "from IPython.display import clear_output\n",
    "import time\n",
    "import matplotlib.pyplot as plt\n",
    "\n",
    "#Essential libraries for computation\n",
    "import numpy as np\n",
    "import random\n",
    "from collections import deque\n",
    "\n",
    "import pandas as pd\n",
    "\n",
    "\n",
    "#Library for environments\n",
    "from tensorflow.keras.models import Sequential\n",
    "from tensorflow.keras.layers import InputLayer\n",
    "from tensorflow.keras.layers import Dense\n",
    "\n",
    "import tqdm"
   ]
  },
  {
   "cell_type": "code",
   "execution_count": 3,
   "metadata": {},
   "outputs": [
    {
     "name": "stdout",
     "output_type": "stream",
     "text": [
      "2.6.0\n",
      "[LogicalDevice(name='/device:GPU:0', device_type='GPU')]\n",
      "1 Physical GPU, 1 Logical GPUs\n",
      "[name: \"/device:CPU:0\"\n",
      "device_type: \"CPU\"\n",
      "memory_limit: 268435456\n",
      "locality {\n",
      "}\n",
      "incarnation: 1341930220950718647\n",
      ", name: \"/device:GPU:0\"\n",
      "device_type: \"GPU\"\n",
      "memory_limit: 18131976192\n",
      "locality {\n",
      "  bus_id: 1\n",
      "  links {\n",
      "  }\n",
      "}\n",
      "incarnation: 9333891021328153574\n",
      "physical_device_desc: \"device: 0, name: NVIDIA GeForce RTX 2060, pci bus id: 0000:01:00.0, compute capability: 7.5\"\n",
      "]\n",
      "\n",
      "\n",
      "Num GPUs Available:  1\n"
     ]
    }
   ],
   "source": [
    "# TensorFlow config to GPU\n",
    "import tensorflow as tf\n",
    "print(tf.__version__)\n",
    "\n",
    "gpus = tf.config.list_physical_devices('GPU')\n",
    "if gpus: \n",
    "    tf.config.set_logical_device_configuration(\n",
    "        gpus[0],\n",
    "        [tf.config.LogicalDeviceConfiguration(memory_limit=17292)] # 4139778048 , 17083400192, 16034824192\n",
    "    )\n",
    "\n",
    "logical_gpus = tf.config.list_logical_devices('GPU')\n",
    "print(logical_gpus)\n",
    "print(len(gpus), \"Physical GPU,\", len(logical_gpus), \"Logical GPUs\")\n",
    "\n",
    "\n",
    "from tensorflow.python.client import device_lib \n",
    "print(device_lib.list_local_devices())\n",
    "\n",
    "print()\n",
    "print()\n",
    "\n",
    "print(\"Num GPUs Available: \", len(tf.config.list_physical_devices('GPU')))"
   ]
  },
  {
   "cell_type": "code",
   "execution_count": 4,
   "metadata": {},
   "outputs": [
    {
     "name": "stdout",
     "output_type": "stream",
     "text": [
      "\n",
      "\u001b[41mS\u001b[0mFFFHHHHFH\n",
      "FFHFHHHFHH\n",
      "HHFFFFHFHH\n",
      "HHFFHFFHHH\n",
      "HHHHHFFHHH\n",
      "HFFHHHFHHF\n",
      "HHFFFHFFFH\n",
      "HHHHHHFHHF\n",
      "HHHFHHFHHH\n",
      "HHFHFHFFFG\n"
     ]
    }
   ],
   "source": [
    "random_map = generate_random_map(size=10, p=0.3)\n",
    "env = gym.make(\"FrozenLake-v1\", desc=random_map, is_slippery=True)\n",
    "env.reset()\n",
    "env.render()"
   ]
  },
  {
   "cell_type": "code",
   "execution_count": 5,
   "metadata": {},
   "outputs": [],
   "source": [
    "discount_factor = 0.95\n",
    "eps = 0.5\n",
    "eps_decay_factor = 0.999\n",
    "num_episodes=100000"
   ]
  },
  {
   "cell_type": "code",
   "execution_count": 6,
   "metadata": {},
   "outputs": [],
   "source": [
    "model = Sequential()\n",
    "model.add(InputLayer(batch_input_shape=(1, env.observation_space.n)))\n",
    "model.add(Dense(20, activation='relu'))\n",
    "model.add(Dense(20, activation='relu'))\n",
    "model.add(Dense(20, activation='relu'))\n",
    "model.add(Dense(env.action_space.n, activation='linear'))\n",
    "model.compile(loss='mse', optimizer='adam', metrics=['mae'])"
   ]
  },
  {
   "cell_type": "code",
   "execution_count": 7,
   "metadata": {},
   "outputs": [
    {
     "name": "stdout",
     "output_type": "stream",
     "text": [
      "Model: \"sequential\"\n",
      "_________________________________________________________________\n",
      "Layer (type)                 Output Shape              Param #   \n",
      "=================================================================\n",
      "dense (Dense)                (1, 20)                   2020      \n",
      "_________________________________________________________________\n",
      "dense_1 (Dense)              (1, 20)                   420       \n",
      "_________________________________________________________________\n",
      "dense_2 (Dense)              (1, 20)                   420       \n",
      "_________________________________________________________________\n",
      "dense_3 (Dense)              (1, 4)                    84        \n",
      "=================================================================\n",
      "Total params: 2,944\n",
      "Trainable params: 2,944\n",
      "Non-trainable params: 0\n",
      "_________________________________________________________________\n"
     ]
    }
   ],
   "source": [
    "model.summary()"
   ]
  },
  {
   "cell_type": "code",
   "execution_count": 9,
   "metadata": {},
   "outputs": [
    {
     "data": {
      "text/plain": [
       "'/device:GPU:0'"
      ]
     },
     "execution_count": 9,
     "metadata": {},
     "output_type": "execute_result"
    }
   ],
   "source": [
    "# tensorflow in gpu\n",
    "import tensorflow as tf\n",
    "tf.test.gpu_device_name()"
   ]
  },
  {
   "cell_type": "code",
   "execution_count": 10,
   "metadata": {},
   "outputs": [
    {
     "name": "stderr",
     "output_type": "stream",
     "text": [
      "100%|██████████| 100000/100000 [23:51:50<00:00,  1.16it/s]\n"
     ]
    }
   ],
   "source": [
    "for i in tqdm.tqdm(range(num_episodes)):\n",
    "    state = env.reset()\n",
    "    eps *= eps_decay_factor\n",
    "    done = False\n",
    "    while not done:\n",
    "        if np.random.random() < eps:\n",
    "            action = np.random.randint(0, env.action_space.n)\n",
    "        else:\n",
    "            action = np.argmax(\n",
    "              model.predict(np.identity(env.observation_space.n)[state:state + 1]))\n",
    "        new_state, reward, done, _ = env.step(action)\n",
    "        target = reward + discount_factor * np.max(model.predict(np.identity(env.observation_space.n)[new_state:new_state + 1]))\n",
    "        target_vector = model.predict(\n",
    "          np.identity(env.observation_space.n)[state:state + 1])[0]\n",
    "        target_vector[action] = target\n",
    "        history = model.fit(\n",
    "          np.identity(env.observation_space.n)[state:state + 1], \n",
    "          target_vector.reshape(-1, env.action_space.n), \n",
    "          epochs=1, verbose=0)\n",
    "        state = new_state\n",
    "    clear_output(wait=True)"
   ]
  },
  {
   "cell_type": "code",
   "execution_count": 15,
   "metadata": {},
   "outputs": [
    {
     "data": {
      "text/plain": [
       "100000"
      ]
     },
     "execution_count": 15,
     "metadata": {},
     "output_type": "execute_result"
    }
   ],
   "source": [
    "num_episodes"
   ]
  },
  {
   "cell_type": "code",
   "execution_count": 20,
   "metadata": {},
   "outputs": [
    {
     "name": "stdout",
     "output_type": "stream",
     "text": [
      "  (Down)\n",
      "SFFFHHHHFH\n",
      "F\u001b[41mF\u001b[0mHFHHHFHH\n",
      "HHFFFFHFHH\n",
      "HHFFHFFHHH\n",
      "HHHHHFFHHH\n",
      "HFFHHHFHHF\n",
      "HHFFFHFFFH\n",
      "HHHHHHFHHF\n",
      "HHHFHHFHHH\n",
      "HHFHFHFFFG\n"
     ]
    },
    {
     "ename": "KeyboardInterrupt",
     "evalue": "",
     "output_type": "error",
     "traceback": [
      "\u001b[1;31m---------------------------------------------------------------------------\u001b[0m",
      "\u001b[1;31mKeyboardInterrupt\u001b[0m                         Traceback (most recent call last)",
      "Cell \u001b[1;32mIn [20], line 10\u001b[0m\n\u001b[0;32m      8\u001b[0m clear_output(wait\u001b[39m=\u001b[39m\u001b[39mTrue\u001b[39;00m)\n\u001b[0;32m      9\u001b[0m env\u001b[39m.\u001b[39mrender()\n\u001b[1;32m---> 10\u001b[0m time\u001b[39m.\u001b[39;49msleep(\u001b[39m1\u001b[39;49m)\n",
      "\u001b[1;31mKeyboardInterrupt\u001b[0m: "
     ]
    }
   ],
   "source": [
    "# Evaluate agent's performance after Q-learning\n",
    "while reward != 1.0:\n",
    "    state = env.reset()\n",
    "    done = False\n",
    "    while not done:\n",
    "        action = np.argmax(model.predict(np.identity(env.observation_space.n)[state:state + 1]))\n",
    "        state, reward, done, _ = env.step(action)\n",
    "        clear_output(wait=True)\n",
    "        env.render()\n",
    "        time.sleep(1)"
   ]
  },
  {
   "cell_type": "code",
   "execution_count": 11,
   "metadata": {},
   "outputs": [
    {
     "name": "stdout",
     "output_type": "stream",
     "text": [
      "4/4 [==============================] - 2s 2ms/step - loss: 0.0000e+00 - mae: 0.0000e+00\n"
     ]
    }
   ],
   "source": [
    "# accuracy of the model\n",
    "scores = model.evaluate(np.identity(env.observation_space.n), model.predict(np.identity(env.observation_space.n)))\n",
    "# print(\"%s: %.2f%%\" % (model.metrics_names[1], scores[1]*100))"
   ]
  },
  {
   "cell_type": "code",
   "execution_count": 21,
   "metadata": {},
   "outputs": [
    {
     "data": {
      "text/plain": [
       "array([[-8.9611961e-03, -4.4778593e-34, -8.2201520e-03, -5.7311011e-03],\n",
       "       [-8.9611961e-03, -4.4778593e-34, -8.2201520e-03, -5.7311011e-03],\n",
       "       [-8.9611961e-03, -4.4778593e-34, -8.2201520e-03, -5.7311011e-03],\n",
       "       [-8.9611961e-03, -4.4778593e-34, -8.2201520e-03, -5.7311011e-03],\n",
       "       [-8.9611961e-03, -4.4778593e-34, -8.2201520e-03, -5.7311011e-03],\n",
       "       [-8.9611961e-03, -4.4778593e-34, -8.2201520e-03, -5.7311011e-03],\n",
       "       [-8.5910792e-03, -3.7148778e-04, -7.4915369e-03, -5.5835787e-03],\n",
       "       [-8.9611961e-03, -4.4778593e-34, -8.2201520e-03, -5.7311011e-03],\n",
       "       [-8.9611961e-03, -4.4778593e-34, -8.2201520e-03, -5.7311011e-03],\n",
       "       [-8.9611961e-03, -4.4778593e-34, -8.2201520e-03, -5.7311011e-03],\n",
       "       [-8.9611961e-03, -4.4778593e-34, -8.2201520e-03, -5.7311011e-03],\n",
       "       [-8.9611961e-03, -4.4778593e-34, -8.2201520e-03, -5.7311011e-03],\n",
       "       [-8.9611961e-03, -4.4778593e-34, -8.2201520e-03, -5.7311011e-03],\n",
       "       [-8.9611961e-03, -4.4778593e-34, -8.2201520e-03, -5.7311011e-03],\n",
       "       [-8.9611961e-03, -4.4778593e-34, -8.2201520e-03, -5.7311011e-03],\n",
       "       [-8.9611961e-03, -4.4778593e-34, -8.2201520e-03, -5.7311011e-03],\n",
       "       [-8.9611961e-03, -4.4778593e-34, -8.2201520e-03, -5.7311011e-03],\n",
       "       [-9.0196906e-03, -5.1787891e-04, -9.3034208e-03, -5.8009303e-03],\n",
       "       [-8.9611961e-03, -4.4778593e-34, -8.2201520e-03, -5.7311011e-03],\n",
       "       [-8.9611961e-03, -4.4778593e-34, -8.2201520e-03, -5.7311011e-03],\n",
       "       [-8.9611961e-03, -4.4778593e-34, -8.2201520e-03, -5.7311011e-03],\n",
       "       [-8.9611961e-03, -4.4778593e-34, -8.2201520e-03, -5.7311011e-03],\n",
       "       [-8.9611961e-03, -4.4778593e-34, -8.2201520e-03, -5.7311011e-03],\n",
       "       [-8.9611961e-03, -4.4778593e-34, -8.2201520e-03, -5.7311011e-03],\n",
       "       [-8.9611961e-03, -4.4778593e-34, -8.2201520e-03, -5.7311011e-03],\n",
       "       [-8.9611961e-03, -4.4778593e-34, -8.2201520e-03, -5.7311011e-03],\n",
       "       [-8.9611961e-03, -4.4778593e-34, -8.2201520e-03, -5.7311011e-03],\n",
       "       [-8.9611961e-03, -4.4778593e-34, -8.2201520e-03, -5.7311011e-03],\n",
       "       [-8.9611961e-03, -4.4778593e-34, -8.2201520e-03, -5.7311011e-03],\n",
       "       [-8.9611961e-03, -4.4778593e-34, -8.2201520e-03, -5.7311011e-03],\n",
       "       [-8.9611961e-03, -4.4778593e-34, -8.2201520e-03, -5.7311011e-03],\n",
       "       [-8.9611961e-03, -4.4778593e-34, -8.2201520e-03, -5.7311011e-03],\n",
       "       [-8.9611961e-03, -4.4778593e-34, -8.2201520e-03, -5.7311011e-03],\n",
       "       [-8.9611961e-03, -4.4778593e-34, -8.2201520e-03, -5.7311011e-03],\n",
       "       [-8.9611961e-03, -4.4778593e-34, -8.2201520e-03, -5.7311011e-03],\n",
       "       [-8.9611961e-03, -4.4778593e-34, -8.2201520e-03, -5.7311011e-03],\n",
       "       [-8.9611961e-03, -4.4778593e-34, -8.2201520e-03, -5.7311011e-03],\n",
       "       [-8.9611961e-03, -4.4778593e-34, -8.2201520e-03, -5.7311011e-03],\n",
       "       [-8.9611961e-03, -4.4778593e-34, -8.2201520e-03, -5.7311011e-03],\n",
       "       [-8.9611961e-03, -4.4778593e-34, -8.2201520e-03, -5.7311011e-03],\n",
       "       [-8.1719672e-03, -3.4526698e-04, -7.9904171e-03, -6.1050961e-03],\n",
       "       [-8.9611961e-03, -4.4778593e-34, -8.2201520e-03, -5.7311011e-03],\n",
       "       [-8.9611961e-03, -4.4778593e-34, -8.2201520e-03, -5.7311011e-03],\n",
       "       [-8.9611961e-03, -4.4778593e-34, -8.2201520e-03, -5.7311011e-03],\n",
       "       [-8.9611961e-03, -4.4778593e-34, -8.2201520e-03, -5.7311011e-03],\n",
       "       [-8.9611961e-03, -4.4778593e-34, -8.2201520e-03, -5.7311011e-03],\n",
       "       [-8.9611961e-03, -4.4778593e-34, -8.2201520e-03, -5.7311011e-03],\n",
       "       [-8.9611961e-03, -4.4778593e-34, -8.2201520e-03, -5.7311011e-03],\n",
       "       [-8.9611961e-03, -4.4778593e-34, -8.2201520e-03, -5.7311011e-03],\n",
       "       [-9.3104569e-03,  5.6209747e-04, -7.4290270e-03, -5.6543499e-03],\n",
       "       [-1.3895165e-02,  8.5738199e-03, -5.6679053e-03, -1.5874291e-03],\n",
       "       [-8.9611961e-03, -4.4778593e-34, -8.2201520e-03, -5.7311011e-03],\n",
       "       [-8.9611961e-03, -4.4778593e-34, -8.2201520e-03, -5.7311011e-03],\n",
       "       [-8.9611961e-03, -4.4778593e-34, -8.2201520e-03, -5.7311011e-03],\n",
       "       [-8.9611961e-03, -4.4778593e-34, -8.2201520e-03, -5.7311011e-03],\n",
       "       [-8.9611961e-03, -4.4778593e-34, -8.2201520e-03, -5.7311011e-03],\n",
       "       [-8.9611961e-03, -4.4778593e-34, -8.2201520e-03, -5.7311011e-03],\n",
       "       [-8.9611961e-03, -4.4778593e-34, -8.2201520e-03, -5.7311011e-03],\n",
       "       [-8.9611961e-03, -4.4778593e-34, -8.2201520e-03, -5.7311011e-03],\n",
       "       [-8.9611961e-03, -4.4778593e-34, -8.2201520e-03, -5.7311011e-03],\n",
       "       [-8.9611961e-03, -4.4778593e-34, -8.2201520e-03, -5.7311011e-03],\n",
       "       [-8.9611961e-03, -4.4778593e-34, -8.2201520e-03, -5.7311011e-03],\n",
       "       [-8.9611961e-03, -4.4778593e-34, -8.2201520e-03, -5.7311011e-03],\n",
       "       [-8.9611961e-03, -4.4778593e-34, -8.2201520e-03, -5.7311011e-03],\n",
       "       [-8.9611961e-03, -4.4778593e-34, -8.2201520e-03, -5.7311011e-03],\n",
       "       [-8.9611961e-03, -4.4778593e-34, -8.2201520e-03, -5.7311011e-03],\n",
       "       [-8.9611961e-03, -4.4778593e-34, -8.2201520e-03, -5.7311011e-03],\n",
       "       [-8.9611961e-03, -4.4778593e-34, -8.2201520e-03, -5.7311011e-03],\n",
       "       [-8.9611961e-03, -4.4778593e-34, -8.2201520e-03, -5.7311011e-03],\n",
       "       [-8.9611961e-03, -4.4778593e-34, -8.2201520e-03, -5.7311011e-03],\n",
       "       [-8.0066249e-03, -2.7493385e-04, -7.6668207e-03, -5.9263012e-03],\n",
       "       [-8.9611961e-03, -4.4778593e-34, -8.2201520e-03, -5.7311011e-03],\n",
       "       [-8.9611961e-03, -4.4778593e-34, -8.2201520e-03, -5.7311011e-03],\n",
       "       [-8.9611961e-03, -4.4778593e-34, -8.2201520e-03, -5.7311011e-03],\n",
       "       [-8.9611961e-03, -4.4778593e-34, -8.2201520e-03, -5.7311011e-03],\n",
       "       [-8.9611961e-03, -4.4778593e-34, -8.2201520e-03, -5.7311011e-03],\n",
       "       [-7.3111337e-03,  3.9405815e-04, -1.0176952e-02, -3.5489735e-03],\n",
       "       [-8.9611961e-03, -4.4778593e-34, -8.2201520e-03, -5.7311011e-03],\n",
       "       [-8.9611961e-03, -4.4778593e-34, -8.2201520e-03, -5.7311011e-03],\n",
       "       [-9.9907033e-03,  1.6568787e-03, -5.8881752e-03, -5.5048643e-03],\n",
       "       [-8.9611961e-03, -4.4778593e-34, -8.2201520e-03, -5.7311011e-03],\n",
       "       [-8.9611961e-03, -4.4778593e-34, -8.2201520e-03, -5.7311011e-03],\n",
       "       [-8.9611961e-03, -4.4778593e-34, -8.2201520e-03, -5.7311011e-03],\n",
       "       [-8.9611961e-03, -4.4778593e-34, -8.2201520e-03, -5.7311011e-03],\n",
       "       [-8.9611961e-03, -4.4778593e-34, -8.2201520e-03, -5.7311011e-03],\n",
       "       [-8.9611961e-03, -4.4778593e-34, -8.2201520e-03, -5.7311011e-03],\n",
       "       [-8.9611961e-03, -4.4778593e-34, -8.2201520e-03, -5.7311011e-03],\n",
       "       [-8.9611961e-03, -4.4778593e-34, -8.2201520e-03, -5.7311011e-03],\n",
       "       [-8.9611961e-03, -4.4778593e-34, -8.2201520e-03, -5.7311011e-03],\n",
       "       [-8.9611961e-03, -4.4778593e-34, -8.2201520e-03, -5.7311011e-03],\n",
       "       [-8.9611961e-03, -4.4778593e-34, -8.2201520e-03, -5.7311011e-03],\n",
       "       [-8.9611961e-03, -4.4778593e-34, -8.2201520e-03, -5.7311011e-03],\n",
       "       [-8.9611961e-03, -4.4778593e-34, -8.2201520e-03, -5.7311011e-03],\n",
       "       [-9.5453365e-03,  2.3586436e-03, -7.2978898e-03, -4.0731118e-03],\n",
       "       [-1.0111178e-02,  1.8507695e-03, -5.6152833e-03, -5.4783896e-03],\n",
       "       [-8.9611961e-03, -4.4778593e-34, -8.2201520e-03, -5.7311011e-03],\n",
       "       [-8.9611961e-03, -4.4778593e-34, -8.2201520e-03, -5.7311011e-03],\n",
       "       [-8.9611961e-03, -4.4778593e-34, -8.2201520e-03, -5.7311011e-03],\n",
       "       [-8.9611961e-03, -4.4778593e-34, -8.2201520e-03, -5.7311011e-03],\n",
       "       [-8.9611961e-03, -4.4778593e-34, -8.2201520e-03, -5.7311011e-03]],\n",
       "      dtype=float32)"
      ]
     },
     "execution_count": 21,
     "metadata": {},
     "output_type": "execute_result"
    }
   ],
   "source": [
    "model.predict(np.identity(env.observation_space.n))"
   ]
  },
  {
   "cell_type": "code",
   "execution_count": null,
   "metadata": {},
   "outputs": [],
   "source": [
    "# plot\n",
    "import matplotlib.pyplot as plt\n",
    "plt.plot(history.history['mae'])\n",
    "plt.show()"
   ]
  },
  {
   "cell_type": "code",
   "execution_count": null,
   "metadata": {},
   "outputs": [],
   "source": [
    "print(history.history)"
   ]
  }
 ],
 "metadata": {
  "kernelspec": {
   "display_name": "Python 3.10.8 ('ai_gpu')",
   "language": "python",
   "name": "python3"
  },
  "language_info": {
   "codemirror_mode": {
    "name": "ipython",
    "version": 3
   },
   "file_extension": ".py",
   "mimetype": "text/x-python",
   "name": "python",
   "nbconvert_exporter": "python",
   "pygments_lexer": "ipython3",
   "version": "3.9.15"
  },
  "orig_nbformat": 4,
  "vscode": {
   "interpreter": {
    "hash": "e5a43e2790c0db8844c424a01c3480f91c69a43088380814f4271b6893581909"
   }
  }
 },
 "nbformat": 4,
 "nbformat_minor": 2
}
