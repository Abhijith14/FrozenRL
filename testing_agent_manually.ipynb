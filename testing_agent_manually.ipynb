{
 "cells": [
  {
   "cell_type": "code",
   "execution_count": 88,
   "metadata": {},
   "outputs": [],
   "source": [
    "#Library for environments\n",
    "import gym\n",
    "from gym.envs.registration import register\n",
    "from gym.envs.toy_text.frozen_lake import generate_random_map\n",
    "\n",
    "#Librairies to represent the output\n",
    "from IPython.display import clear_output\n",
    "import time\n",
    "import matplotlib.pyplot as plt\n",
    "\n",
    "#Essential libraries for computation\n",
    "import numpy as np\n",
    "import random\n",
    "from collections import deque\n",
    "\n",
    "import pandas as pd\n",
    "\n",
    "\n",
    "#Library for environments\n",
    "from tensorflow.keras.models import Sequential\n",
    "from tensorflow.keras.layers import InputLayer\n",
    "from tensorflow.keras.layers import Dense\n",
    "\n",
    "import tqdm"
   ]
  },
  {
   "cell_type": "code",
   "execution_count": 89,
   "metadata": {},
   "outputs": [
    {
     "name": "stdout",
     "output_type": "stream",
     "text": [
      "\n",
      "\u001b[41mS\u001b[0mFHHFHHHHH\n",
      "FHHHFHHHFF\n",
      "FFFHHFHFHF\n",
      "HFFFHFFHHF\n",
      "FHFFFFFHHF\n",
      "HHHFFHFHFF\n",
      "HHFFFHFFFH\n",
      "HFHHFFHHFF\n",
      "HFHHHHHHHF\n",
      "HFHHHHFHFG\n"
     ]
    }
   ],
   "source": [
    "random_map = generate_random_map(size=10, p=0.3)\n",
    "env = gym.make(\"FrozenLake-v1\", desc=random_map, is_slippery=False)\n",
    "env.reset()\n",
    "env.render()"
   ]
  },
  {
   "cell_type": "code",
   "execution_count": 90,
   "metadata": {},
   "outputs": [
    {
     "name": "stdout",
     "output_type": "stream",
     "text": [
      "  (Down)\n",
      "SFHHFHHHHH\n",
      "\u001b[41mF\u001b[0mHHHFHHHFF\n",
      "FFFHHFHFHF\n",
      "HFFFHFFHHF\n",
      "FHFFFFFHHF\n",
      "HHHFFHFHFF\n",
      "HHFFFHFFFH\n",
      "HFHHFFHHFF\n",
      "HFHHHHHHHF\n",
      "HFHHHHFHFG\n"
     ]
    }
   ],
   "source": [
    "env.step(1)\n",
    "env.render()"
   ]
  },
  {
   "cell_type": "code",
   "execution_count": 91,
   "metadata": {},
   "outputs": [
    {
     "data": {
      "text/plain": [
       "0"
      ]
     },
     "execution_count": 91,
     "metadata": {},
     "output_type": "execute_result"
    }
   ],
   "source": []
  },
  {
   "cell_type": "code",
   "execution_count": 130,
   "metadata": {},
   "outputs": [],
   "source": [
    "env.reset()\n",
    "# 0: LEFT \n",
    "# 1: DOWN \n",
    "# 2: RIGHT \n",
    "# 3: UP\n",
    "actual_path = [1, 1, 2, 2, 1, 2, 1, 2, 2, 2, 1, 1, 2, 2, 1, 2, 1, 1]"
   ]
  },
  {
   "cell_type": "code",
   "execution_count": 132,
   "metadata": {},
   "outputs": [
    {
     "name": "stdout",
     "output_type": "stream",
     "text": [
      "17\n",
      "  (Down)\n",
      "SFHHFHHHHH\n",
      "FHHHFHHHFF\n",
      "FFFHHFHFHF\n",
      "HFFFHFFHHF\n",
      "FHFFFFFHHF\n",
      "HHHFFHFHFF\n",
      "HHFFFHFFFH\n",
      "HFHHFFHHFF\n",
      "HFHHHHHHHF\n",
      "HFHHHHFHF\u001b[41mG\u001b[0m\n",
      "You reached the goal!\n"
     ]
    }
   ],
   "source": [
    "# env.render()\n",
    "for i in range(len(actual_path)): # 0 -> len()\n",
    "    print(i)\n",
    "    state, reward, done, _ = env.step(actual_path[i])\n",
    "    env.render()\n",
    "    time.sleep(1)\n",
    "    if done:\n",
    "        if int(reward) == 1:\n",
    "            print(\"You reached the goal!\")\n",
    "        else:\n",
    "            env.reset()\n",
    "            i = -1\n",
    "    clear_output(wait=True)"
   ]
  },
  {
   "cell_type": "code",
   "execution_count": null,
   "metadata": {},
   "outputs": [],
   "source": []
  }
 ],
 "metadata": {
  "kernelspec": {
   "display_name": "Python 3.9.15 ('ai_gpu')",
   "language": "python",
   "name": "python3"
  },
  "language_info": {
   "codemirror_mode": {
    "name": "ipython",
    "version": 3
   },
   "file_extension": ".py",
   "mimetype": "text/x-python",
   "name": "python",
   "nbconvert_exporter": "python",
   "pygments_lexer": "ipython3",
   "version": "3.9.15"
  },
  "orig_nbformat": 4,
  "vscode": {
   "interpreter": {
    "hash": "e5a43e2790c0db8844c424a01c3480f91c69a43088380814f4271b6893581909"
   }
  }
 },
 "nbformat": 4,
 "nbformat_minor": 2
}
